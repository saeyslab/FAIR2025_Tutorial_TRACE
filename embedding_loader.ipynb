{
 "cells": [
  {
   "cell_type": "code",
   "execution_count": 1,
   "metadata": {},
   "outputs": [
    {
     "name": "stderr",
     "output_type": "stream",
     "text": [
      "INFO:vivae:initialised with \"cpu\" backend and determinism enabled\n"
     ]
    }
   ],
   "source": [
    "import scanpy\n",
    "import pandas as pd\n",
    "import os\n",
    "from preprocessing import load_data\n",
    "from embeddings import compute_embeddings\n",
    "from save_anndata import store_embeddings, load_tracedata\n",
    "\n"
   ]
  },
  {
   "cell_type": "code",
   "execution_count": 2,
   "metadata": {},
   "outputs": [],
   "source": [
    "path = './data/'\n",
    "fname = 'ImmuneW'\n",
    "\n",
    "n_neighbours = [100, 500, 800, 1000]\n",
    "embeddings = ['umap', 'tsne', 'pca', 'vivae']  "
   ]
  },
  {
   "cell_type": "code",
   "execution_count": 3,
   "metadata": {},
   "outputs": [],
   "source": [
    "## Load data\n",
    "if not os.path.exists(os.path.join(path, fname + '_HDdata.csv')) or not os.path.exists(os.path.join(path, fname + '_metadata.csv')):\n",
    "    load_data(path)\n",
    "\n",
    "hd_data = pd.read_csv(os.path.join(path, fname + '_HDdata.csv'))\n",
    "metadata = pd.read_csv(os.path.join(path, fname + '_metadata.csv'))"
   ]
  },
  {
   "cell_type": "code",
   "execution_count": 7,
   "metadata": {},
   "outputs": [
    {
     "name": "stdout",
     "output_type": "stream",
     "text": [
      "Embeddings computed and saved successfully!\n"
     ]
    }
   ],
   "source": [
    "## Compute embeddings\n",
    "compute_embeddings(embeddings, path+fname, hd_data)"
   ]
  },
  {
   "cell_type": "code",
   "execution_count": 8,
   "metadata": {},
   "outputs": [],
   "source": [
    "## Store the embeddings in anndata format\n",
    "if not os.path.exists(os.path.join(path, fname + '_anndata.h5ad')):\n",
    "    d = store_embeddings(embeddings, hd_data, metadata, os.path.join(path, fname))\n",
    "else:\n",
    "    d = scanpy.read_h5ad(os.path.join(path, fname + '_anndata.h5ad'))"
   ]
  },
  {
   "cell_type": "code",
   "execution_count": 9,
   "metadata": {},
   "outputs": [],
   "source": [
    "## Get the trace dataset object\n",
    "dataobject = load_tracedata(fname=path+fname, n_neighbours=n_neighbours)"
   ]
  }
 ],
 "metadata": {
  "kernelspec": {
   "display_name": "test_env",
   "language": "python",
   "name": "python3"
  },
  "language_info": {
   "codemirror_mode": {
    "name": "ipython",
    "version": 3
   },
   "file_extension": ".py",
   "mimetype": "text/x-python",
   "name": "python",
   "nbconvert_exporter": "python",
   "pygments_lexer": "ipython3",
   "version": "3.11.13"
  }
 },
 "nbformat": 4,
 "nbformat_minor": 2
}
