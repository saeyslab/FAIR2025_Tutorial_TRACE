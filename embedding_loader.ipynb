{
 "cells": [
  {
   "cell_type": "code",
   "execution_count": 1,
   "metadata": {},
   "outputs": [
    {
     "name": "stderr",
     "output_type": "stream",
     "text": [
      "/Users/laurah/anaconda3/envs/ViVAE/lib/python3.11/site-packages/anndata/__init__.py:44: FutureWarning: Importing read_csv from `anndata` is deprecated. Import anndata.io.read_csv instead.\n",
      "  return module_get_attr_redirect(attr_name, deprecated_mapping=_DEPRECATED)\n",
      "/Users/laurah/anaconda3/envs/ViVAE/lib/python3.11/site-packages/anndata/__init__.py:44: FutureWarning: Importing read_excel from `anndata` is deprecated. Import anndata.io.read_excel instead.\n",
      "  return module_get_attr_redirect(attr_name, deprecated_mapping=_DEPRECATED)\n",
      "/Users/laurah/anaconda3/envs/ViVAE/lib/python3.11/site-packages/anndata/__init__.py:44: FutureWarning: Importing read_hdf from `anndata` is deprecated. Import anndata.io.read_hdf instead.\n",
      "  return module_get_attr_redirect(attr_name, deprecated_mapping=_DEPRECATED)\n",
      "/Users/laurah/anaconda3/envs/ViVAE/lib/python3.11/site-packages/anndata/__init__.py:44: FutureWarning: Importing read_loom from `anndata` is deprecated. Import anndata.io.read_loom instead.\n",
      "  return module_get_attr_redirect(attr_name, deprecated_mapping=_DEPRECATED)\n",
      "/Users/laurah/anaconda3/envs/ViVAE/lib/python3.11/site-packages/anndata/__init__.py:44: FutureWarning: Importing read_mtx from `anndata` is deprecated. Import anndata.io.read_mtx instead.\n",
      "  return module_get_attr_redirect(attr_name, deprecated_mapping=_DEPRECATED)\n",
      "/Users/laurah/anaconda3/envs/ViVAE/lib/python3.11/site-packages/anndata/__init__.py:44: FutureWarning: Importing read_text from `anndata` is deprecated. Import anndata.io.read_text instead.\n",
      "  return module_get_attr_redirect(attr_name, deprecated_mapping=_DEPRECATED)\n",
      "/Users/laurah/anaconda3/envs/ViVAE/lib/python3.11/site-packages/anndata/__init__.py:44: FutureWarning: Importing read_umi_tools from `anndata` is deprecated. Import anndata.io.read_umi_tools instead.\n",
      "  return module_get_attr_redirect(attr_name, deprecated_mapping=_DEPRECATED)\n",
      "/Users/laurah/anaconda3/envs/ViVAE/lib/python3.11/site-packages/tqdm/auto.py:21: TqdmWarning: IProgress not found. Please update jupyter and ipywidgets. See https://ipywidgets.readthedocs.io/en/stable/user_install.html\n",
      "  from .autonotebook import tqdm as notebook_tqdm\n",
      "INFO:vivae:initialised with \"cpu\" backend and determinism enabled\n"
     ]
    }
   ],
   "source": [
    "import scanpy\n",
    "import pandas as pd\n",
    "import os\n",
    "from preprocessing import load_data\n",
    "from embeddings import compute_embeddings\n",
    "from save_anndata import store_embeddings, load_tracedata"
   ]
  },
  {
   "cell_type": "code",
   "execution_count": 2,
   "metadata": {},
   "outputs": [],
   "source": [
    "path = './data/'\n",
    "fname = 'ImmuneW'\n",
    "\n",
    "n_neighbours = [100, 500, 800, 1000]\n",
    "embeddings = ['umap', 'tsne', 'pca', 'vivae']  "
   ]
  },
  {
   "cell_type": "code",
   "execution_count": null,
   "metadata": {},
   "outputs": [],
   "source": [
    "## Load data\n",
    "if not os.path.exists(os.path.join(path, fname + '_HDdata.csv')) or not os.path.exists(os.path.join(path, fname + '_metadata.csv')):\n",
    "    load_data(path)\n",
    "\n",
    "hd_data = pd.read_csv(os.path.join(path, fname + '_HDdata.csv'))\n",
    "metadata = pd.read_csv(os.path.join(path, fname + '_metadata.csv'))"
   ]
  },
  {
   "cell_type": "code",
   "execution_count": null,
   "metadata": {},
   "outputs": [],
   "source": [
    "## Compute embeddings\n",
    "compute_embeddings(embeddings, path+fname, hd_data)"
   ]
  },
  {
   "cell_type": "code",
   "execution_count": null,
   "metadata": {},
   "outputs": [],
   "source": [
    "## Store the embeddings in anndata format\n",
    "if not os.path.exists(os.path.join(path, fname + '_anndata.h5ad')):\n",
    "    d = store_embeddings(embeddings, hd_data, metadata, os.path.join(path, fname))\n",
    "else:\n",
    "    d = scanpy.read_h5ad(os.path.join(path, fname + '_anndata.h5ad'))"
   ]
  }
 ],
 "metadata": {
  "kernelspec": {
   "display_name": "ViVAE",
   "language": "python",
   "name": "python3"
  },
  "language_info": {
   "codemirror_mode": {
    "name": "ipython",
    "version": 3
   },
   "file_extension": ".py",
   "mimetype": "text/x-python",
   "name": "python",
   "nbconvert_exporter": "python",
   "pygments_lexer": "ipython3",
   "version": "3.11.7"
  }
 },
 "nbformat": 4,
 "nbformat_minor": 2
}
